{
  "nbformat": 4,
  "nbformat_minor": 0,
  "metadata": {
    "colab": {
      "provenance": [],
      "include_colab_link": true
    },
    "kernelspec": {
      "name": "python3",
      "display_name": "Python 3"
    },
    "language_info": {
      "name": "python"
    }
  },
  "cells": [
    {
      "cell_type": "markdown",
      "metadata": {
        "id": "view-in-github",
        "colab_type": "text"
      },
      "source": [
        "<a href=\"https://colab.research.google.com/github/Dhanush47-cloud/AI-_Agent/blob/main/Hospital_agent.ipynb\" target=\"_parent\"><img src=\"https://colab.research.google.com/assets/colab-badge.svg\" alt=\"Open In Colab\"/></a>"
      ]
    },
    {
      "cell_type": "markdown",
      "source": [
        "# STEP 0: Install dependencies"
      ],
      "metadata": {
        "id": "K3yWWtQ8cC4i"
      }
    },
    {
      "cell_type": "code",
      "source": [
        "!pip install -qU google-generativeai==0.8.5 google-ai-generativelanguage==0.6.15 \\\n",
        "langgraph langchain langchain-google-genai openai\n"
      ],
      "metadata": {
        "id": "xA3W7PAH4tfY"
      },
      "execution_count": null,
      "outputs": []
    },
    {
      "cell_type": "markdown",
      "source": [
        "# STEP 1: Imports and secure API key input"
      ],
      "metadata": {
        "id": "XvoFPl11cFhj"
      }
    },
    {
      "cell_type": "code",
      "source": [
        "import os\n",
        "import getpass\n",
        "from langgraph.graph import StateGraph, END\n",
        "from langchain_google_genai import ChatGoogleGenerativeAI\n",
        "from langchain_core.messages import HumanMessage"
      ],
      "metadata": {
        "id": "cy7t9YG0-Vcx"
      },
      "execution_count": null,
      "outputs": []
    },
    {
      "cell_type": "markdown",
      "source": [
        "\n",
        "# Secure Gemini API Key input"
      ],
      "metadata": {
        "id": "W28u20SxcIiH"
      }
    },
    {
      "cell_type": "code",
      "source": [
        "os.environ['GOOGLE_API_KEY']= getpass.getpass(\"ENter the Gemini API key\")\n"
      ],
      "metadata": {
        "colab": {
          "base_uri": "https://localhost:8080/"
        },
        "id": "aBBBZQ8t-anS",
        "outputId": "4fd68920-4e4c-4f76-eb11-e4aebf8eb04b"
      },
      "execution_count": null,
      "outputs": [
        {
          "name": "stdout",
          "output_type": "stream",
          "text": [
            "ENter the Gemini API key··········\n"
          ]
        }
      ]
    },
    {
      "cell_type": "markdown",
      "source": [
        "# STEP 2: Initialize Gemini 1.5 Flash"
      ],
      "metadata": {
        "id": "eusINPuVcLXp"
      }
    },
    {
      "cell_type": "code",
      "source": [
        "llm = ChatGoogleGenerativeAI(model=\"models/gemini-1.5-flash-latest\",temperature =0.2)"
      ],
      "metadata": {
        "id": "QsbvMv1s_pe9"
      },
      "execution_count": null,
      "outputs": []
    },
    {
      "cell_type": "markdown",
      "source": [
        "# STEP 3: Node to ask user for symptom"
      ],
      "metadata": {
        "id": "o07zbkLWcOVW"
      }
    },
    {
      "cell_type": "code",
      "source": [
        "def get_symptom(state:dict) ->dict:\n",
        "  symptom = input(\"Welcome to xyz hospital,please enter your symptom: \")\n",
        "  state[\"symptom\"] = symptom\n",
        "  return state"
      ],
      "metadata": {
        "id": "e0nqr3O6AZV8"
      },
      "execution_count": null,
      "outputs": []
    },
    {
      "cell_type": "markdown",
      "source": [
        "# STEP 4: Node to classify the symptom"
      ],
      "metadata": {
        "id": "0KIzyYPVcRVm"
      }
    },
    {
      "cell_type": "code",
      "source": [
        "def classify_symptom(state:dict) ->dict:\n",
        "  prompt = (\n",
        "      \"you are a helpfull medical assistant ,clarify the symptoms below into one of the categories \\n\"\n",
        "      \"-General\\n -Emergency \\n -mental Health\\n \"\n",
        "      f\"Symptom: {state['symptom']}\\n\"\n",
        "      \"Respomd only with one word :General,Emergency or Mental Health\"\n",
        "      \"#Example :input :I have fever,output :General\"\n",
        "  )\n",
        "  response = llm.invoke([HumanMessage(content=prompt)])\n",
        "  category = response.content.strip()\n",
        "  print(f\"LLM Classifies the symptoms as: {category}\")\n",
        "  state[\"category\"] = category\n",
        "  return state"
      ],
      "metadata": {
        "id": "WOa5AP2PCFTT"
      },
      "execution_count": null,
      "outputs": []
    },
    {
      "cell_type": "markdown",
      "source": [
        "# STEP 5: Router logic to route to the correct node\n"
      ],
      "metadata": {
        "id": "kESmxbnicWpS"
      }
    },
    {
      "cell_type": "code",
      "source": [
        "def symptom_router(state:dict) -> dict:\n",
        "  cat =state[\"category\"].lower()\n",
        "  if \"general\" in cat:\n",
        "    return \"general\"\n",
        "  elif \"emergency\" in cat:\n",
        "    return \"emergency\"\n",
        "  elif \"mental\" in cat:\n",
        "    return \"mental_health\"\n",
        "  else:\n",
        "    return \"general\""
      ],
      "metadata": {
        "id": "NiOHvttJEHQY"
      },
      "execution_count": null,
      "outputs": []
    },
    {
      "cell_type": "markdown",
      "source": [
        "# STEP 6: Category-specific response nodes\n"
      ],
      "metadata": {
        "id": "cZuR4VGscake"
      }
    },
    {
      "cell_type": "code",
      "source": [
        "def general_node(state: dict) -> dict:\n",
        "  state[\"answer\"]= f\" '{state['symptom']}' : seems general :directing you yo general ward for consulting a doctor \"\n",
        "  return state\n",
        "\n",
        "def emergency_node(state: dict) -> dict:\n",
        "  state[\"answer\"]= f\" '{state['symptom']}' : It is a Medical Emergency : seeking immediate help \"\n",
        "  return state\n",
        "\n",
        "def mental_health_node(state: dict) -> dict:\n",
        "  state[\"answer\"]= f\" '{state['symptom']}' : seems like a medical health issues : talk to our counseller \"\n",
        "  return state"
      ],
      "metadata": {
        "id": "ZrlwFLpZLyT4"
      },
      "execution_count": null,
      "outputs": []
    },
    {
      "cell_type": "markdown",
      "source": [
        "# STEP 7: Build LangGraph\n"
      ],
      "metadata": {
        "id": "I1ek0SwzcehS"
      }
    },
    {
      "cell_type": "code",
      "source": [
        "builder = StateGraph(dict)\n",
        "\n",
        "builder.set_entry_point(\"get_symptom\")\n",
        "builder.add_node(\"get_symptom\",get_symptom)\n",
        "builder.add_node(\"classify\",classify_symptom)\n",
        "builder.add_node(\"general\",general_node)\n",
        "builder.add_node(\"emergency\",emergency_node)\n",
        "builder.add_node(\"mental_health\",mental_health_node)\n",
        "\n",
        "builder.add_edge(\"get_symptom\",\"classify\")\n",
        "builder.add_conditional_edges(\"classify\",symptom_router,{\n",
        "    \"general\":\"general\",\n",
        "    \"emergency\":\"emergency\",\n",
        "    \"mental_health\":\"mental_health\"\n",
        "})\n",
        "\n",
        "builder.add_edge(\"general\",END)\n",
        "builder.add_edge(\"emergency\",END)\n",
        "builder.add_edge(\"mental_health\",END)\n",
        "\n",
        "\n",
        "\n"
      ],
      "metadata": {
        "colab": {
          "base_uri": "https://localhost:8080/"
        },
        "id": "52WB6SsCG-7G",
        "outputId": "a287402d-3168-46e5-f716-8ce39930198e"
      },
      "execution_count": null,
      "outputs": [
        {
          "output_type": "execute_result",
          "data": {
            "text/plain": [
              "<langgraph.graph.state.StateGraph at 0x78279dd91750>"
            ]
          },
          "metadata": {},
          "execution_count": 53
        }
      ]
    },
    {
      "cell_type": "markdown",
      "source": [
        "# STEP 8: Compile and invoke the graph\n"
      ],
      "metadata": {
        "id": "GbAgCeZYci5k"
      }
    },
    {
      "cell_type": "code",
      "source": [
        "graph =builder.compile()\n",
        "final_state =graph.invoke({})\n",
        "print(\"final Output \\n\")\n",
        "print(final_state[\"answer\"])"
      ],
      "metadata": {
        "colab": {
          "base_uri": "https://localhost:8080/"
        },
        "id": "_nS9p6B4JSbL",
        "outputId": "145b1d2c-0625-4814-b7eb-50547b185a2e"
      },
      "execution_count": null,
      "outputs": [
        {
          "output_type": "stream",
          "name": "stdout",
          "text": [
            "Welcome to xyz hospital,please enter your symptom: i just died\n",
            "LLM Classifies the symptoms as: Emergency\n",
            "final Output \n",
            "\n",
            " 'i just died' : It is a Medical Emergency : seeking immediate help \n"
          ]
        }
      ]
    }
  ]
}